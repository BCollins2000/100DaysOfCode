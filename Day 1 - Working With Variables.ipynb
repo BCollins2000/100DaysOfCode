{
 "cells": [
  {
   "cell_type": "code",
   "execution_count": 1,
   "id": "bdd5fbfe",
   "metadata": {},
   "outputs": [
    {
     "name": "stdout",
     "output_type": "stream",
     "text": [
      "Jack\n"
     ]
    }
   ],
   "source": [
    "name = \"Jack\"\n",
    "print(name)"
   ]
  },
  {
   "cell_type": "code",
   "execution_count": 2,
   "id": "8a0bca22",
   "metadata": {},
   "outputs": [
    {
     "name": "stdout",
     "output_type": "stream",
     "text": [
      "Angela\n"
     ]
    }
   ],
   "source": [
    "name = \"Angela\"\n",
    "print(name)"
   ]
  },
  {
   "cell_type": "code",
   "execution_count": 3,
   "id": "42202eda",
   "metadata": {},
   "outputs": [
    {
     "name": "stdout",
     "output_type": "stream",
     "text": [
      "What is your name? Michael\n",
      "7\n"
     ]
    }
   ],
   "source": [
    "name = input(\"What is your name? \")\n",
    "print(len(name))"
   ]
  },
  {
   "cell_type": "code",
   "execution_count": 4,
   "id": "e6b359b5",
   "metadata": {},
   "outputs": [
    {
     "name": "stdout",
     "output_type": "stream",
     "text": [
      "What is the value of a? 40\n",
      "What is the value of b? 25\n",
      "The new value of a is: 25\n",
      "The new value of b is: 40\n"
     ]
    }
   ],
   "source": [
    "#This code block switches two variables and prints the values.\n",
    "\n",
    "a = input(\"What is the value of a? \")\n",
    "b = input(\"What is the value of b? \")\n",
    "\n",
    "a_old = a\n",
    "b_old = b\n",
    "a = b_old\n",
    "b = a_old\n",
    "\n",
    "print(\"The new value of a is: \" + str(a))\n",
    "print(\"The new value of b is: \" + str(b))"
   ]
  },
  {
   "cell_type": "code",
   "execution_count": 5,
   "id": "8e8dfe7a",
   "metadata": {},
   "outputs": [
    {
     "name": "stdout",
     "output_type": "stream",
     "text": [
      "Hello Matey! We are going to think of a very awesome band name so that you can rock out properly!!\n",
      "What city did you grow up in? \n",
      "Boston\n",
      "What is a pet name? \n",
      "Whopper\n",
      "\n",
      "Your band name can be Boston Whopper\n"
     ]
    }
   ],
   "source": [
    "#This code block is a band name generator\n",
    "print(\"Hello Matey! We are going to think of a very awesome band name so that you can rock out properly!!\")\n",
    "city = input(\"What city did you grow up in? \\n\")\n",
    "pet = input(\"What is a pet name? \\n\")\n",
    "\n",
    "print(\"\\nYour band name can be \" + city + \" \"+ pet)\n",
    "\n"
   ]
  },
  {
   "cell_type": "code",
   "execution_count": null,
   "id": "3492e39d",
   "metadata": {},
   "outputs": [],
   "source": []
  }
 ],
 "metadata": {
  "kernelspec": {
   "display_name": "Python 3 (ipykernel)",
   "language": "python",
   "name": "python3"
  },
  "language_info": {
   "codemirror_mode": {
    "name": "ipython",
    "version": 3
   },
   "file_extension": ".py",
   "mimetype": "text/x-python",
   "name": "python",
   "nbconvert_exporter": "python",
   "pygments_lexer": "ipython3",
   "version": "3.9.13"
  }
 },
 "nbformat": 4,
 "nbformat_minor": 5
}
