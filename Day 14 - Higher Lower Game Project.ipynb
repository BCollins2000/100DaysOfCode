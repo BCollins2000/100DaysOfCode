{
 "cells": [
  {
   "cell_type": "code",
   "execution_count": null,
   "id": "e474ece7",
   "metadata": {},
   "outputs": [],
   "source": [
    "import Day14Data\n",
    "data = Day14Data.data\n",
    "import random\n",
    "from IPython.display import clear_output\n",
    "\n"
   ]
  },
  {
   "cell_type": "code",
   "execution_count": null,
   "id": "1eaf9f2f",
   "metadata": {},
   "outputs": [],
   "source": [
    "def higher_lower_game():\n",
    "    print(\"Welcome to the Higher Lower Game!\\n\")\n",
    "    score = 0\n",
    "    keep_playing = True\n",
    "    while keep_playing:\n",
    "        print(f\"Your current score is {score}\\n\")\n",
    "        accounts = random.sample(data,2)\n",
    "        account_1 = accounts[0]\n",
    "        account_2 = accounts[1]\n",
    "        print(f\"Compare A: {account_1['name']}, a {account_1['description']}, from {account_1['country']} \\n\\nAgainst B: {account_2['name']}, a {account_2['description']}, from {account_2['country']}\")\n",
    "        followers_1 = int(account_1['follower_count'])\n",
    "        followers_2 = int(account_2['follower_count'])\n",
    "        if followers_1 > followers_2:\n",
    "            answer = 'A'            \n",
    "        else:\n",
    "            answer = 'B'\n",
    "        guess = input(\"\\nWho has more followers? Type 'A' or 'B':\\n\")\n",
    "        if guess == answer:\n",
    "            clear_output(wait=False)\n",
    "            print(\"\\nCorrect!\\n\")\n",
    "            score += 1\n",
    "        else:\n",
    "            clear_output(wait=False)\n",
    "            print(f\"\\nSorry, game over. Your final score is {score}\\n\")\n",
    "            keep_playing = False\n",
    "    \n",
    "    play_again = input(\"\\nDo you want to play again? 'yes' or 'no' \\n\")\n",
    "    if play_again == 'yes':\n",
    "        higher_lower_game()\n",
    "    else:\n",
    "        print(\"Thank you for playing the Higher Lower Game. Goodbye!\\n\")\n",
    "        return\n",
    "        \n",
    "    "
   ]
  },
  {
   "cell_type": "code",
   "execution_count": null,
   "id": "a4752ed3",
   "metadata": {},
   "outputs": [],
   "source": [
    "higher_lower_game()"
   ]
  }
 ],
 "metadata": {
  "kernelspec": {
   "display_name": "Python 3 (ipykernel)",
   "language": "python",
   "name": "python3"
  },
  "language_info": {
   "codemirror_mode": {
    "name": "ipython",
    "version": 3
   },
   "file_extension": ".py",
   "mimetype": "text/x-python",
   "name": "python",
   "nbconvert_exporter": "python",
   "pygments_lexer": "ipython3",
   "version": "3.9.13"
  }
 },
 "nbformat": 4,
 "nbformat_minor": 5
}
