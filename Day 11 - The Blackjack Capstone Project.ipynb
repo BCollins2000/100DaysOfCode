{
 "cells": [
  {
   "cell_type": "markdown",
   "id": "ae8ba62f",
   "metadata": {},
   "source": [
    "### Welcome to the blackjack capstone project"
   ]
  },
  {
   "cell_type": "code",
   "execution_count": null,
   "id": "184be651",
   "metadata": {},
   "outputs": [],
   "source": [
    "from IPython.display import clear_output\n",
    "import random\n",
    "\n",
    "cards = [11,2,3,4,5,6,7,8,9,10,10,10,10]\n",
    "def blackjack():\n",
    "    clear_output(wait=False)\n",
    "    player_hand = [random.choice(cards), random.choice(cards)]\n",
    "    dealer_hand = [random.choice(cards), random.choice(cards)]\n",
    "    if sum(dealer_hand) == 21:\n",
    "        return f\"The dealer has blackjack with cards {dealer_hand}. Sorry you lose!\"\n",
    "    elif sum(player_hand) == 21:\n",
    "        return f\"You have blackjack with cards {player_hand}. Congrats you win!\"\n",
    "    else:\n",
    "        if sum(player_hand) == 22:\n",
    "            player_hand[player_hand.index(11)] = 1\n",
    "        print(f\"Neither has blackjack. Your score is {sum(player_hand)} with cards {player_hand} and the dealer has card {[dealer_hand[0]]}\")\n",
    "    move = input(f\"Your score is {sum(player_hand)} with cards {player_hand}. The dealer hand is {[dealer_hand[0]]}. hit or pass?\")\n",
    "    while move == \"hit\":\n",
    "        player_hand.append(random.choice(cards))\n",
    "        if sum(player_hand) > 21 & player_hand.count(11) > 0:\n",
    "            player_hand[player_hand.index(11)] = 1\n",
    "        if sum(player_hand) > 21:\n",
    "            return f\"You busted with score {sum(player_hand)} with cards {player_hand}. Sorry you lose!\"\n",
    "        move = input(f\"Your score is {sum(player_hand)} with cards {player_hand}. The dealer hand is {dealer_hand}. hit or pass?\")\n",
    "    while sum(dealer_hand) < 17:\n",
    "        dealer_hand.append(random.choice(cards))\n",
    "        if sum(dealer_hand) > 21:\n",
    "            return f\"The dealer busted with cards {dealer_hand}. You win!\"\n",
    "    if sum(player_hand) == sum(dealer_hand):\n",
    "        return f\"Your score is {sum(player_hand)} with cards {player_hand} and the dealer score is {sum(dealer_hand)} with cards {dealer_hand}.Its a draw!!\"\n",
    "    elif sum(player_hand) > sum(dealer_hand):\n",
    "        return f\"Your score is {sum(player_hand)} with cards {player_hand} and the dealer score is {sum(dealer_hand)} with cards {dealer_hand}. You Win!!\"\n",
    "    else:\n",
    "        return f\"Your score is {sum(player_hand)} with cards {player_hand} and the dealer score is {sum(dealer_hand)} with cards {dealer_hand}. You Lose!!\"\n",
    "    play_again = input    \n",
    "        \n",
    "    \n",
    "    \n",
    "    \n",
    "#         while sum(player_hand) < 22:\n",
    "#             move = input(f\"Your hand is {player_hand}. The dealer hand is {dealer_hand}. hit or pass?\")\n",
    "#             while move == \"hit\":\n",
    "#                 player_hand.append(random.choice(cards))\n",
    "#                 if sum(player_hand) > 21:\n",
    "#                     print(f\"Your hand is {player_hand}. Sorry, you busted!\")\n",
    "#                     break\n",
    "#             move = input(f\"Your hand is {player_hand}. The dealer hand is {dealer_hand}. hit or pass?\")\n",
    "                \n",
    "           \n",
    "        \n",
    "#         elif sum(player_hand) == 21:\n",
    "#             print(f\"Your hand is {player_hand}. You got 21! Nice!\")\n",
    "#         else:\n",
    "#             print(f\"Your hand is {player_hand}. The dealer hand is {dealer_hand}.\")\n",
    "        \n",
    "#         play = input(\"Do you want to play a game of Blackjack? Type 'y' or 'n'\")\n",
    "        \n",
    "        "
   ]
  },
  {
   "cell_type": "code",
   "execution_count": null,
   "id": "4e7a8f03",
   "metadata": {},
   "outputs": [],
   "source": [
    "blackjack()\n"
   ]
  }
 ],
 "metadata": {
  "kernelspec": {
   "display_name": "Python 3 (ipykernel)",
   "language": "python",
   "name": "python3"
  },
  "language_info": {
   "codemirror_mode": {
    "name": "ipython",
    "version": 3
   },
   "file_extension": ".py",
   "mimetype": "text/x-python",
   "name": "python",
   "nbconvert_exporter": "python",
   "pygments_lexer": "ipython3",
   "version": "3.9.13"
  }
 },
 "nbformat": 4,
 "nbformat_minor": 5
}
