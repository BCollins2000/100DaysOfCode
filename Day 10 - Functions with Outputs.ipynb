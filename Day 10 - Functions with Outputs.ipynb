{
 "cells": [
  {
   "cell_type": "code",
   "execution_count": 1,
   "id": "f0d0b8c5",
   "metadata": {},
   "outputs": [],
   "source": [
    "#Functions with Outputs\n",
    "\n",
    "def format_name(f_name, l_name):\n",
    "    '''Take a first name and last name and format it correctly'''\n",
    "    f_name = f_name.title()\n",
    "    l_name = l_name.title()\n",
    "    return str(f_name) + \" \"  + str(l_name)\n"
   ]
  },
  {
   "cell_type": "code",
   "execution_count": 2,
   "id": "eed00d0d",
   "metadata": {},
   "outputs": [
    {
     "name": "stdout",
     "output_type": "stream",
     "text": [
      "Brad Collins\n"
     ]
    }
   ],
   "source": [
    "myname = format_name(\"BrAD\", \"coLLiNS\")\n",
    "print(myname)"
   ]
  },
  {
   "cell_type": "code",
   "execution_count": 4,
   "id": "cada2826",
   "metadata": {},
   "outputs": [
    {
     "name": "stdout",
     "output_type": "stream",
     "text": [
      "Enter the Year (As Number)2025\n",
      "Enter the Month (As Number)10\n",
      "There are 31 days in 10/2025\n"
     ]
    }
   ],
   "source": [
    "def is_leap(year):\n",
    "    if year % 4 == 0:\n",
    "        if year % 100 == 0:\n",
    "            if year % 400 == 0:\n",
    "                return \"Leap year\"\n",
    "            else:\n",
    "                return \"Not Leap year\"\n",
    "        else:\n",
    "            return \"Leap year\"\n",
    "    else:\n",
    "        return \"Not Leap year\"\n",
    "  \n",
    "# TODO: Add more code here 👇\n",
    "def days_in_month(year, month):\n",
    "    month_days = [31, 28, 31, 30, 31, 30, 31, 31, 30, 31, 30, 31]\n",
    "    if is_leap(year) == \"Leap year\":\n",
    "        month_days[1] = 29\n",
    "    return month_days[month - 1]\n",
    "    \n",
    "  \n",
    "#🚨 Do NOT change any of the code below \n",
    "year = int(input(\"Enter the Year (As Number)\")) # Enter a year\n",
    "month = int(input(\"Enter the Month (As Number)\")) # Enter a month\n",
    "days = days_in_month(year, month)\n",
    "print(f\"There are {days} days in {month}/{year}\")\n",
    "\n"
   ]
  },
  {
   "cell_type": "code",
   "execution_count": 5,
   "id": "9b53d44d",
   "metadata": {},
   "outputs": [
    {
     "name": "stdout",
     "output_type": "stream",
     "text": [
      "What's the first number?: 5\n",
      "What's the next number?: 5\n",
      "Pick an operation (+, -, *, /):  /\n",
      "5 / 5 = 1.0\n",
      "do you want to perform a new calculation? (yes or no)no\n",
      "Thanks for using the calculator. Goodbye.\n"
     ]
    }
   ],
   "source": [
    "#Calculator\n",
    "\n",
    "# Add\n",
    "def add(n1, n2):\n",
    "    return n1 + n2\n",
    "\n",
    "# Subtract\n",
    "def subtract(n1, n2):\n",
    "    return n1 - n2\n",
    "\n",
    "# Multiply\n",
    "def multiply(n1, n2):\n",
    "    return n1 * n2\n",
    "\n",
    "# Subtract\n",
    "def divide(n1, n2):\n",
    "    return n1 / n2\n",
    "\n",
    "operations = {\n",
    "    \"+\" : add,\n",
    "    \"-\" : subtract,\n",
    "    \"*\" : multiply,\n",
    "    \"/\" : divide    \n",
    "}\n",
    "\n",
    "num1 = int(input(\"What's the first number?: \"))\n",
    "new_calculation = 'yes'\n",
    "while new_calculation == 'yes':\n",
    "    num2 = int(input(\"What's the next number?: \"))\n",
    "    operation_symbol = input(\"Pick an operation (+, -, *, /):  \")\n",
    "    answer = operations[operation_symbol](num1, num2)\n",
    "    print(f\"{num1} {operation_symbol} {num2} = {answer}\")\n",
    "    new_calculation = input(\"do you want to perform a new calculation? (yes or no)\")\n",
    "    if new_calculation == 'yes':\n",
    "        num1 = answer\n",
    "    else:\n",
    "        print(\"Thanks for using the calculator. Goodbye.\")\n",
    "\n"
   ]
  },
  {
   "cell_type": "code",
   "execution_count": 6,
   "id": "94cba6b0",
   "metadata": {},
   "outputs": [],
   "source": [
    "def calculator():\n",
    "    num1 = float(input(\"What's the first number?: \"))\n",
    "    new_calculation = 'yes'\n",
    "    while new_calculation == 'yes':\n",
    "        num2 = float(input(\"What's the next number?: \"))\n",
    "        operation_symbol = input(\"Pick an operation (+, -, *, /):  \")\n",
    "        answer = operations[operation_symbol](num1, num2)\n",
    "        print(f\"{num1} {operation_symbol} {num2} = {answer}\")\n",
    "        new_calculation = input(f\"do you want to perform a new calculation with {answer}? (yes, no or clear) \")\n",
    "        if new_calculation == 'yes':\n",
    "            num1 = answer\n",
    "        elif new_calculation == 'clear':\n",
    "            calculator()\n",
    "        else:\n",
    "            print(\"Thanks for using the calculator. Goodbye.\")"
   ]
  },
  {
   "cell_type": "code",
   "execution_count": 7,
   "id": "ee024aa0",
   "metadata": {},
   "outputs": [
    {
     "name": "stdout",
     "output_type": "stream",
     "text": [
      "What's the first number?: 3.3\n",
      "What's the next number?: 3\n",
      "Pick an operation (+, -, *, /):  *\n",
      "3.3 * 3.0 = 9.899999999999999\n",
      "do you want to perform a new calculation with 9.899999999999999? (yes, no or clear) no\n",
      "Thanks for using the calculator. Goodbye.\n"
     ]
    }
   ],
   "source": [
    "calculator()"
   ]
  }
 ],
 "metadata": {
  "kernelspec": {
   "display_name": "Python 3 (ipykernel)",
   "language": "python",
   "name": "python3"
  },
  "language_info": {
   "codemirror_mode": {
    "name": "ipython",
    "version": 3
   },
   "file_extension": ".py",
   "mimetype": "text/x-python",
   "name": "python",
   "nbconvert_exporter": "python",
   "pygments_lexer": "ipython3",
   "version": "3.9.13"
  }
 },
 "nbformat": 4,
 "nbformat_minor": 5
}
