{
 "cells": [
  {
   "cell_type": "code",
   "execution_count": 2,
   "id": "47989a8b",
   "metadata": {},
   "outputs": [
    {
     "name": "stdout",
     "output_type": "stream",
     "text": [
      "An error in a program that prevents the program from running as expected.\n"
     ]
    }
   ],
   "source": [
    "programming_dictionary = {\n",
    "    \"Bug\": \"An error in a program that prevents the program from running as expected.\", \n",
    "    \"Function\": \"A piece of code that you can easily call over and over again.\",\n",
    "    \"Loop\": \"The action of doing something over and over again.\"\n",
    "}\n",
    "\n",
    "print(programming_dictionary[\"Bug\"])"
   ]
  },
  {
   "cell_type": "code",
   "execution_count": 3,
   "id": "24b9a178",
   "metadata": {},
   "outputs": [],
   "source": [
    "#adding new items to dictionary\n",
    "programming_dictionary[\"Coding in Python\"] = \"A very fun activity.\""
   ]
  },
  {
   "cell_type": "code",
   "execution_count": 4,
   "id": "7c18352a",
   "metadata": {
    "scrolled": true
   },
   "outputs": [
    {
     "name": "stdout",
     "output_type": "stream",
     "text": [
      "{'Bug': 'An error in a program that prevents the program from running as expected.', 'Function': 'A piece of code that you can easily call over and over again.', 'Loop': 'The action of doing something over and over again.', 'Coding in Python': 'A very fun activity.'}\n"
     ]
    }
   ],
   "source": [
    "print(programming_dictionary)"
   ]
  },
  {
   "cell_type": "code",
   "execution_count": 5,
   "id": "0ea25fbe",
   "metadata": {},
   "outputs": [],
   "source": [
    "#Create an empty dictionary\n",
    "empty_dictionary = {}"
   ]
  },
  {
   "cell_type": "code",
   "execution_count": 7,
   "id": "7664aba0",
   "metadata": {},
   "outputs": [],
   "source": [
    "#Wipe an existing dictionary\n",
    "programming_dictionary = {}"
   ]
  },
  {
   "cell_type": "code",
   "execution_count": 9,
   "id": "0c5d6c15",
   "metadata": {},
   "outputs": [
    {
     "name": "stdout",
     "output_type": "stream",
     "text": [
      "{'Bug': 'A small animal like a beetle', 'Function': 'A piece of code that you can easily call over and over again.', 'Loop': 'The action of doing something over and over again.'}\n"
     ]
    }
   ],
   "source": [
    "#Edit an item in a dictionary\n",
    "programming_dictionary = {\n",
    "    \"Bug\": \"An error in a program that prevents the program from running as expected.\", \n",
    "    \"Function\": \"A piece of code that you can easily call over and over again.\",\n",
    "    \"Loop\": \"The action of doing something over and over again.\"\n",
    "}\n",
    "\n",
    "programming_dictionary[\"Bug\"] = \"A small animal like a beetle\"\n",
    "print(programming_dictionary)\n"
   ]
  },
  {
   "cell_type": "code",
   "execution_count": 13,
   "id": "42c7ffb9",
   "metadata": {},
   "outputs": [
    {
     "name": "stdout",
     "output_type": "stream",
     "text": [
      "Bug : A small animal like a beetle\n",
      "Function : A piece of code that you can easily call over and over again.\n",
      "Loop : The action of doing something over and over again.\n"
     ]
    }
   ],
   "source": [
    "#Loop through a dictionary\n",
    "for item in programming_dictionary:\n",
    "    print(item, \":\", programming_dictionary[item])"
   ]
  },
  {
   "cell_type": "code",
   "execution_count": 18,
   "id": "eb601b70",
   "metadata": {},
   "outputs": [
    {
     "name": "stdout",
     "output_type": "stream",
     "text": [
      "{'Harry': 'Exceeds Expectations', 'Ron': 'Acceptable', 'Hermione': 'Outstanding', 'Draco': 'Acceptable', 'Neville': 'Fail'}\n"
     ]
    }
   ],
   "source": [
    "student_scores = {\n",
    "  \"Harry\": 81,\n",
    "  \"Ron\": 78,\n",
    "  \"Hermione\": 99, \n",
    "  \"Draco\": 74,\n",
    "  \"Neville\": 62,\n",
    "}\n",
    "# 🚨 Don't change the code above 👆\n",
    "# TODO-1: Create an empty dictionary called student_grades.\n",
    "student_grades = {}\n",
    "\n",
    "# TODO-2: Write your code below to add the grades to student_grades.👇\n",
    "for item in student_scores:\n",
    "    if student_scores[item] <= 70:\n",
    "        student_grades[item] = \"Fail\"\n",
    "    elif student_scores[item] <= 80:\n",
    "        student_grades[item] = \"Acceptable\"\n",
    "    elif student_scores[item] <= 90:\n",
    "        student_grades[item] = \"Exceeds Expectations\"\n",
    "    else:\n",
    "        student_grades[item] = \"Outstanding\"\n",
    "        \n",
    "\n",
    "# 🚨 Don't change the code below 👇\n",
    "print(student_grades)"
   ]
  },
  {
   "cell_type": "code",
   "execution_count": 4,
   "id": "bcb7cca4",
   "metadata": {},
   "outputs": [
    {
     "name": "stdout",
     "output_type": "stream",
     "text": [
      "['Hamburg', 'Berlin', 'Leipzig']\n"
     ]
    }
   ],
   "source": [
    "#Nesting\n",
    "capitals = {\n",
    "    \"France\": \"Paris\",\n",
    "    \"Germany\": \"Berlin\"\n",
    "}\n",
    "\n",
    "#Nesting a list in a dictionary\n",
    "travel_log = {\n",
    "    \"France\": [\"Paris\", \"Lille\", \"Dijon\"],\n",
    "    \"Germany\": [\"Hamburg\", \"Berlin\", \"Leipzig\"]\n",
    "}\n",
    "\n",
    "\n",
    "print(travel_log[\"Germany\"])\n"
   ]
  },
  {
   "cell_type": "code",
   "execution_count": 10,
   "id": "573bb6dc",
   "metadata": {},
   "outputs": [
    {
     "name": "stdout",
     "output_type": "stream",
     "text": [
      "{'cities visited': ['Hamburg', 'Berlin', 'Leipzig'], 'number_visits': 54}\n",
      "54\n"
     ]
    }
   ],
   "source": [
    "travel_log_2 = {\n",
    "    \"France\": {\"cities visited\":[\"Paris\", \"Lille\", \"Dijon\"], \"number_visits\": 12},\n",
    "    \"Germany\": {\"cities visited\":[\"Hamburg\", \"Berlin\", \"Leipzig\"], \"number_visits\": 54}\n",
    "}\n",
    "\n",
    "print(travel_log_2[\"Germany\"])\n",
    "\n",
    "print(travel_log_2[\"Germany\"][\"number_visits\"])\n",
    "\n",
    "\n"
   ]
  },
  {
   "cell_type": "code",
   "execution_count": 12,
   "id": "7b4494f7",
   "metadata": {},
   "outputs": [
    {
     "name": "stdout",
     "output_type": "stream",
     "text": [
      "Spain\n",
      "2\n",
      "\"Madrid\", \"Barcelona\"\n",
      "I've been to Spain 2 times.\n",
      "My favourite city was Madrid.\n"
     ]
    }
   ],
   "source": [
    "country = input() # Add country name\n",
    "visits = int(input()) # Number of visits\n",
    "list_of_cities = eval(input()) # create list from formatted string\n",
    "\n",
    "travel_log = [\n",
    "  {\n",
    "    \"country\": \"France\",\n",
    "    \"visits\": 12,\n",
    "    \"cities\": [\"Paris\", \"Lille\", \"Dijon\"]\n",
    "  },\n",
    "  {\n",
    "    \"country\": \"Germany\",\n",
    "    \"visits\": 5,\n",
    "    \"cities\": [\"Berlin\", \"Hamburg\", \"Stuttgart\"]\n",
    "  },\n",
    "]\n",
    "# Do NOT change the code above 👆\n",
    "\n",
    "# TODO: Write the function that will allow new countries\n",
    "# to be added to the travel_log. \n",
    "def add_new_country(country, visits, list_of_cities):\n",
    "    new_country_dict = {\n",
    "        \"country\": country,\n",
    "        \"visits\": visits,\n",
    "        \"cities\": list_of_cities\n",
    "    }\n",
    "    travel_log.append(new_country_dict)\n",
    "\n",
    "# Do not change the code below 👇\n",
    "add_new_country(country, visits, list_of_cities)\n",
    "print(f\"I've been to {travel_log[2]['country']} {travel_log[2]['visits']} times.\")\n",
    "print(f\"My favourite city was {travel_log[2]['cities'][0]}.\")"
   ]
  },
  {
   "cell_type": "code",
   "execution_count": 39,
   "id": "28555786",
   "metadata": {},
   "outputs": [
    {
     "name": "stdout",
     "output_type": "stream",
     "text": [
      "Brad, Pico, Fresca were involved in a tie. Please bid again.\n"
     ]
    }
   ],
   "source": [
    "from IPython.display import clear_output\n",
    "def secret_auction():\n",
    "    bid_dict = {}\n",
    "    more_bidders = \"yes\"\n",
    "    while more_bidders == \"yes\":\n",
    "        bidder_name = input(\"What is your name?\")\n",
    "        bidder_bid = float(input(\"What is your bid? $\"))\n",
    "        bid_dict[bidder_name] = bidder_bid\n",
    "        more_bidders = input(\"Are there any more bidders? yes or no \")\n",
    "        clear_output(wait=False)\n",
    "    winning_bidder = ['Bidder', 0]\n",
    "    for bidder in bid_dict:\n",
    "        if bid_dict[bidder] > winning_bidder[1]:\n",
    "            winning_bidder.clear()\n",
    "            winning_bidder.append(bidder)\n",
    "            winning_bidder.append(bid_dict[bidder])\n",
    "        elif bid_dict[bidder] == winning_bidder[1]:\n",
    "            winning_bidder.append(bidder)\n",
    "            winning_bidder.append(bid_dict[bidder])\n",
    "    if len(winning_bidder) == 2:\n",
    "        print(f\"The winning bidder is {winning_bidder[0]} and the winning bid is ${winning_bidder[1]}\")\n",
    "    else:\n",
    "        print(', '.join(map(str,winning_bidder[0::2])) + \" were involved in a tie. Please bid again.\")\n",
    "            \n",
    "    \n",
    "secret_auction()\n"
   ]
  }
 ],
 "metadata": {
  "kernelspec": {
   "display_name": "Python 3 (ipykernel)",
   "language": "python",
   "name": "python3"
  },
  "language_info": {
   "codemirror_mode": {
    "name": "ipython",
    "version": 3
   },
   "file_extension": ".py",
   "mimetype": "text/x-python",
   "name": "python",
   "nbconvert_exporter": "python",
   "pygments_lexer": "ipython3",
   "version": "3.9.13"
  }
 },
 "nbformat": 4,
 "nbformat_minor": 5
}
