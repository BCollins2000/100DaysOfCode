{
 "cells": [
  {
   "cell_type": "code",
   "execution_count": null,
   "id": "f2d1788c",
   "metadata": {},
   "outputs": [],
   "source": [
    "#### SCOPE ####\n",
    "\n",
    "enemies = 1\n",
    "\n",
    "def increase_enemies():\n",
    "    enemies = 2\n",
    "    print(f\"enemies inside function: {enemies}\")\n",
    "    \n",
    "increase_enemies()\n",
    "print(f\"enemies outside function: {enemies}\")"
   ]
  },
  {
   "cell_type": "code",
   "execution_count": null,
   "id": "fc5c0c56",
   "metadata": {},
   "outputs": [],
   "source": [
    "player_health = 10\n",
    "\n",
    "def drink_potion():\n",
    "    global player_health\n",
    "    potion_strength = 2\n",
    "    player_health += potion_strength\n",
    "    print(player_health)\n",
    "    \n"
   ]
  },
  {
   "cell_type": "code",
   "execution_count": null,
   "id": "d941020b",
   "metadata": {},
   "outputs": [],
   "source": [
    "drink_potion()"
   ]
  },
  {
   "cell_type": "code",
   "execution_count": null,
   "id": "de5138c8",
   "metadata": {},
   "outputs": [],
   "source": [
    "game_level = 3\n",
    "enemies = [\"Skeleton\", \"Zombie\", \"Alien\"]\n",
    "if game_level < 5:\n",
    "    new_enemy = enemies[0]"
   ]
  },
  {
   "cell_type": "code",
   "execution_count": 38,
   "id": "a79b59e9",
   "metadata": {},
   "outputs": [],
   "source": [
    "import random\n",
    "def number_guessing_game():\n",
    "    print(\"Welcome to the Number Guessing Game! \\nI'm thinking of a number between 1 and 100.\")\n",
    "    answer = random.randint(1, 100)\n",
    "    print(f\"Hint {answer}\")\n",
    "    difficulty = input(\"Choose a difficulty (easy or hard) \")\n",
    "    if difficulty == \"easy\":\n",
    "        tries_remaining = 10\n",
    "    else:\n",
    "        tries_remaining = 5\n",
    "    print(f\"You have {tries_remaining} tries remaining\")\n",
    "    guess = int(input(\"Guess a number \"))\n",
    "    while guess != answer:\n",
    "        tries_remaining -= 1\n",
    "        if tries_remaining == 0:\n",
    "            print(\"You ran out of tries. Game over\")\n",
    "            break\n",
    "        elif guess < answer:\n",
    "            guess = int(input(f\"Your guess is too low. You have {tries_remaining} tries remaining. Guess a number \"))\n",
    "        elif guess > answer:\n",
    "            guess = int(input(f\"Your guess is too high. You have {tries_remaining} tries remaining. Guess a number \"))\n",
    "    if guess == answer:\n",
    "        print(f'Good job! You guessed the answer, which was {answer}')\n",
    "    \n",
    "    \n",
    "    \n",
    "    "
   ]
  },
  {
   "cell_type": "code",
   "execution_count": 39,
   "id": "6a44eebc",
   "metadata": {
    "scrolled": true
   },
   "outputs": [
    {
     "name": "stdout",
     "output_type": "stream",
     "text": [
      "Welcome to the Number Guessing Game! \n",
      "I'm thinking of a number between 1 and 100.\n",
      "Hint 61\n",
      "Choose a difficulty (easy or hard) hard\n",
      "You have 5 tries remaining\n",
      "Guess a number 55\n",
      "Your guess is too low. You have 4 tries remaining. Guess a number 66\n",
      "Your guess is too high. You have 3 tries remaining. Guess a number 61\n",
      "Good job! You guessed the answer, which was 61\n"
     ]
    }
   ],
   "source": [
    "number_guessing_game()"
   ]
  }
 ],
 "metadata": {
  "kernelspec": {
   "display_name": "Python 3 (ipykernel)",
   "language": "python",
   "name": "python3"
  },
  "language_info": {
   "codemirror_mode": {
    "name": "ipython",
    "version": 3
   },
   "file_extension": ".py",
   "mimetype": "text/x-python",
   "name": "python",
   "nbconvert_exporter": "python",
   "pygments_lexer": "ipython3",
   "version": "3.9.13"
  }
 },
 "nbformat": 4,
 "nbformat_minor": 5
}
