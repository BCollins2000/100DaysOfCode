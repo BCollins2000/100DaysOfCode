{
 "cells": [
  {
   "cell_type": "code",
   "execution_count": null,
   "id": "84879599",
   "metadata": {},
   "outputs": [],
   "source": [
    "fruits = ['Apple', 'Peach', 'Pear']\n",
    "for fruit in fruits:\n",
    "    print(fruit)\n",
    "    print(fruit + ' Pie')"
   ]
  },
  {
   "cell_type": "code",
   "execution_count": null,
   "id": "1ae3f8c6",
   "metadata": {},
   "outputs": [],
   "source": [
    "student_heights = [67, 75, 62, 70, 65]\n",
    "number_heights = 0\n",
    "sum_heights = 0\n",
    "for height in student_heights:\n",
    "    number_heights += 1\n",
    "    sum_heights += height\n",
    "\n",
    "average_height = sum_heights/number_heights\n",
    "print(f\"The average height is {average_height} inches\")\n"
   ]
  },
  {
   "cell_type": "code",
   "execution_count": null,
   "id": "ea24fac2",
   "metadata": {},
   "outputs": [],
   "source": [
    "student_grades = [88, 66, 75, 93, 84, 86]\n",
    "max_grade = 0\n",
    "\n",
    "for grade in student_grades:\n",
    "    if grade > max_grade:\n",
    "        max_grade = grade\n",
    "\n",
    "print(f'The max grade is {max_grade}')\n"
   ]
  },
  {
   "cell_type": "code",
   "execution_count": null,
   "id": "a7865e8a",
   "metadata": {},
   "outputs": [],
   "source": [
    "sum = 0 \n",
    "for num in range(1, 101):\n",
    "    sum += num\n",
    "print(sum)"
   ]
  },
  {
   "cell_type": "code",
   "execution_count": null,
   "id": "6117f2ea",
   "metadata": {},
   "outputs": [],
   "source": [
    "target = int(input())\n",
    "\n",
    "even_sum = 0 \n",
    "\n",
    "for num in range(1, target + 1):\n",
    "    if num % 2 == 0:\n",
    "        even_sum += num\n",
    "print(even_sum)"
   ]
  },
  {
   "cell_type": "code",
   "execution_count": null,
   "id": "a2ce3279",
   "metadata": {},
   "outputs": [],
   "source": [
    "target = 100\n",
    "\n",
    "for num in range(1, target + 1):\n",
    "    if num % 3 == 0 and num % 5 == 0:\n",
    "        print('FizzBuzz')\n",
    "    elif num % 3 == 0:\n",
    "        print('Fizz')\n",
    "    elif num % 5 == 0:\n",
    "        print('Buzz')\n",
    "    else:\n",
    "        print(num)\n",
    "        "
   ]
  },
  {
   "cell_type": "code",
   "execution_count": null,
   "id": "4ab9bde3",
   "metadata": {},
   "outputs": [],
   "source": []
  },
  {
   "cell_type": "code",
   "execution_count": null,
   "id": "14b7000f",
   "metadata": {},
   "outputs": [],
   "source": []
  },
  {
   "cell_type": "code",
   "execution_count": null,
   "id": "51c62ecd",
   "metadata": {},
   "outputs": [],
   "source": [
    "#Welcome to Password Generator!\n",
    "\n",
    "\n",
    "import random\n",
    "letters = ['a', 'b', 'c', 'd', 'e', 'f', 'g', 'h', 'i', 'j', 'k', 'l', 'm', 'n', 'o', 'p', 'q', 'r', 's', 't', 'u', 'v', 'w', 'x', 'y', 'z', 'A', 'B', 'C', 'D', 'E', 'F', 'G', 'H', 'I', 'J', 'K', 'L', 'M', 'N', 'O', 'P', 'Q', 'R', 'S', 'T', 'U', 'V', 'W', 'X', 'Y', 'Z']\n",
    "numbers = ['0', '1', '2', '3', '4', '5', '6', '7', '8', '9']\n",
    "symbols = ['!', '#', '$', '%', '&', '(', ')', '*', '+']\n",
    "\n",
    "print(\"Welcome to the PyPassword Generator!\")\n",
    "nr_letters= int(input(\"How many letters would you like in your password?\\n\")) \n",
    "nr_symbols = int(input(f\"How many symbols would you like?\\n\"))\n",
    "nr_numbers = int(input(f\"How many numbers would you like?\\n\"))\n",
    "\n",
    "password = ''\n",
    "#Easy Password Generator\n",
    "for l in range(1, nr_letters + 1):\n",
    "    password = password + random.choice(letters)\n",
    "for n in range(1, nr_symbols + 1):\n",
    "    password = password + random.choice(symbols)\n",
    "for s in range(1, nr_numbers + 1):\n",
    "    password = password + random.choice(numbers)\n",
    "print(password)\n",
    "password = ' '.join(random.sample(password,len(password)))\n",
    "print(password)\n",
    "\n",
    "\n",
    "\n",
    "\n",
    "\n",
    "\n",
    "\n",
    "\n",
    "\n",
    "\n"
   ]
  },
  {
   "cell_type": "code",
   "execution_count": null,
   "id": "987a57a4",
   "metadata": {},
   "outputs": [],
   "source": []
  },
  {
   "cell_type": "code",
   "execution_count": null,
   "id": "0eefe231",
   "metadata": {},
   "outputs": [],
   "source": []
  }
 ],
 "metadata": {
  "kernelspec": {
   "display_name": "Python 3 (ipykernel)",
   "language": "python",
   "name": "python3"
  },
  "language_info": {
   "codemirror_mode": {
    "name": "ipython",
    "version": 3
   },
   "file_extension": ".py",
   "mimetype": "text/x-python",
   "name": "python",
   "nbconvert_exporter": "python",
   "pygments_lexer": "ipython3",
   "version": "3.9.13"
  }
 },
 "nbformat": 4,
 "nbformat_minor": 5
}
