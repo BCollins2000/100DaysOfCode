{
 "cells": [
  {
   "cell_type": "code",
   "execution_count": null,
   "id": "1939581f",
   "metadata": {},
   "outputs": [],
   "source": [
    "def greet():\n",
    "    print('Hello')\n",
    "    print('Howdy')\n",
    "    print('Top of the morning')"
   ]
  },
  {
   "cell_type": "code",
   "execution_count": null,
   "id": "aa52835f",
   "metadata": {
    "scrolled": true
   },
   "outputs": [],
   "source": [
    "greet()"
   ]
  },
  {
   "cell_type": "code",
   "execution_count": null,
   "id": "95eb5954",
   "metadata": {},
   "outputs": [],
   "source": [
    "def greet_name(Name):\n",
    "    print(f'Hello {Name}')\n",
    "    print(f'Howdy {Name}')\n",
    "    print(f'Top of the morning {Name}')"
   ]
  },
  {
   "cell_type": "code",
   "execution_count": null,
   "id": "3d90b5f7",
   "metadata": {
    "scrolled": true
   },
   "outputs": [],
   "source": [
    "greet_name(\"Jack\")\n",
    "\n",
    "greet_name(\"Jill\")"
   ]
  },
  {
   "cell_type": "code",
   "execution_count": null,
   "id": "43100c1b",
   "metadata": {},
   "outputs": [],
   "source": [
    "def greet_name_location(Name,Location):\n",
    "    print(f'Hello {Name}')\n",
    "    print(f'Howdy {Name}')\n",
    "    print(f'{Name}, how is the weather in {Location}?')"
   ]
  },
  {
   "cell_type": "code",
   "execution_count": null,
   "id": "93bbf198",
   "metadata": {
    "scrolled": true
   },
   "outputs": [],
   "source": [
    "greet_name_location(Name=\"Katie\", Location=\"Portland\")\n",
    "greet_name_location(Location=\"Boston\", Name=\"Omar\")\n"
   ]
  },
  {
   "cell_type": "code",
   "execution_count": null,
   "id": "f64d5f04",
   "metadata": {},
   "outputs": [],
   "source": [
    "# Write your code below this line 👇\n",
    "import math\n",
    "def paint_calc(height, width, cover):\n",
    "    number_of_cans = math.ceil(height*width/cover)\n",
    "    print(f\"You'll need {number_of_cans} cans of paint.\")\n",
    "\n",
    "\n",
    "# Write your code above this line 👆\n",
    "# Define a function called paint_calc() so the code below works.   \n",
    "\n",
    "# 🚨 Don't change the code below 👇\n",
    "test_h = int(input()) # Height of wall (m)\n",
    "test_w = int(input()) # Width of wall (m)\n",
    "coverage = 5\n",
    "paint_calc(height=test_h, width=test_w, cover=coverage)"
   ]
  },
  {
   "cell_type": "code",
   "execution_count": null,
   "id": "7cb57b82",
   "metadata": {},
   "outputs": [],
   "source": [
    "# Write your code below this line 👇\n",
    "def prime_checker(number):\n",
    "    div_list = []\n",
    "    for i in range(2, number):\n",
    "        if number % i == 0:\n",
    "            div_list.append(i)\n",
    "    if len(div_list) == 0:\n",
    "        print(\"It's a prime number.\")\n",
    "    else:\n",
    "        print(\"It's not a prime number.\")\n",
    "        \n",
    "\n",
    "\n",
    "\n",
    "\n",
    "# Write your code above this line 👆\n",
    "    \n",
    "#Do NOT change any of the code below👇\n",
    "n = int(input()) # Check this number\n",
    "prime_checker(number=n)"
   ]
  },
  {
   "cell_type": "code",
   "execution_count": null,
   "id": "b2df168f",
   "metadata": {},
   "outputs": [],
   "source": []
  },
  {
   "cell_type": "code",
   "execution_count": null,
   "id": "7cfffdb8",
   "metadata": {},
   "outputs": [],
   "source": [
    "alphabet = ['a', 'b', 'c', 'd', 'e', 'f', 'g', 'h', 'i', 'j', 'k', 'l', 'm', 'n', 'o', 'p', 'q', 'r', 's', 't', 'u', 'v', 'w', 'x', 'y', 'z']\n",
    "\n",
    "direction = input(\"Type 'encode' to encrypt, type 'decode' to decrypt:\\n\")\n",
    "text = input(\"Type your message:\\n\").lower()\n",
    "shift = int(input(\"Type the shift number:\\n\"))\n",
    "\n",
    "#TODO-1: Create a function called 'encrypt' that takes the 'text' and 'shift' as inputs.\n",
    "def encrypt(plain_text, shift_amount):\n",
    "    cipher_text = \"\"\n",
    "    for char in plain_text:\n",
    "        if char in alphabet:\n",
    "            old_index = alphabet.index(char)\n",
    "            new_index = old_index + shift_amount\n",
    "            char = alphabet[new_index % len(alphabet)]\n",
    "        cipher_text += char\n",
    "    print(f\"The encoded text is {cipher_text}\")\n",
    "    \n",
    "def decrypt(plain_text, shift_amount):\n",
    "    cipher_text = \"\"\n",
    "    for char in plain_text:\n",
    "        if char in alphabet:\n",
    "            old_index = alphabet.index(char)\n",
    "            new_index = old_index - shift_amount\n",
    "            char = alphabet[new_index % len(alphabet)]\n",
    "        cipher_text += char\n",
    "    print(f\"The encoded text is {cipher_text}\")\n",
    "\n",
    "if direction == \"encode\":\n",
    "    encrypt(text, shift)\n",
    "elif direction == \"decode\":\n",
    "    decrypt(text, shift)\n",
    "else:\n",
    "    print(\"You did not enter encode or decode\")\n",
    "            \n",
    "    #TODO-2: Inside the 'encrypt' function, shift each letter of the 'text' forwards in the alphabet by the shift amount and print the encrypted text.  \n",
    "    #e.g. \n",
    "    #plain_text = \"hello\"\n",
    "    #shift = 5\n",
    "    #cipher_text = \"mjqqt\"\n",
    "    #print output: \"The encoded text is mjqqt\"\n",
    "\n",
    "    ##HINT: How do you get the index of an item in a list:\n",
    "    #https://stackoverflow.com/questions/176918/finding-the-index-of-an-item-in-a-list\n",
    "\n",
    "    ##🐛Bug alert: What happens if you try to encode the word 'civilization'?🐛\n",
    "\n",
    "#TODO-3: Call the encrypt function and pass in the user inputs. You should be able to test the code and encrypt a message. "
   ]
  },
  {
   "cell_type": "code",
   "execution_count": null,
   "id": "ec6ea2af",
   "metadata": {},
   "outputs": [],
   "source": [
    "alphabet = ['a', 'b', 'c', 'd', 'e', 'f', 'g', 'h', 'i', 'j', 'k', 'l', 'm', 'n', 'o', 'p', 'q', 'r', 's', 't', 'u', 'v', 'w', 'x', 'y', 'z']\n",
    "\n",
    "direction = input(\"Type 'encode' to encrypt, type 'decode' to decrypt:\\n\")\n",
    "text = input(\"Type your message:\\n\").lower()\n",
    "shift = int(input(\"Type the shift number:\\n\"))\n",
    "\n",
    "#TODO-1: Create a function called 'encrypt' that takes the 'text' and 'shift' as inputs.\n",
    "\n",
    "            \n",
    "decrypt(text, shift)\n",
    "            \n",
    "    #TODO-2: Inside the 'encrypt' function, shift each letter of the 'text' forwards in the alphabet by the shift amount and print the encrypted text.  \n",
    "    #e.g. \n",
    "    #plain_text = \"hello\"\n",
    "    #shift = 5\n",
    "    #cipher_text = \"mjqqt\"\n",
    "    #print output: \"The encoded text is mjqqt\"\n",
    "\n",
    "    ##HINT: How do you get the index of an item in a list:\n",
    "    #https://stackoverflow.com/questions/176918/finding-the-index-of-an-item-in-a-list\n",
    "\n",
    "    ##🐛Bug alert: What happens if you try to encode the word 'civilization'?🐛\n",
    "\n",
    "#TODO-3: Call the encrypt function and pass in the user inputs. You should be able to test the code and encrypt a message. "
   ]
  },
  {
   "cell_type": "code",
   "execution_count": null,
   "id": "184d78d9",
   "metadata": {},
   "outputs": [],
   "source": [
    "def caesar(text, shift, direction):\n",
    "    run = 'yes'\n",
    "    while run == 'yes':\n",
    "        alphabet = ['a', 'b', 'c', 'd', 'e', 'f', 'g', 'h', 'i', 'j', 'k', 'l', 'm', 'n', 'o', 'p', 'q', 'r', 's', 't', 'u', 'v', 'w', 'x', 'y', 'z']\n",
    "        while direction not in ['encode', 'decode']:\n",
    "            direction = input(\"Hey! Choose direction 'encode' or 'decode'\")  \n",
    "        cipher_text = \"\"\n",
    "        for char in text:\n",
    "            if char in alphabet:\n",
    "                old_index = alphabet.index(char)\n",
    "                if direction == 'encode':\n",
    "                    new_index = old_index + shift\n",
    "                elif direction == 'decode':\n",
    "                    new_index = old_index - shift\n",
    "                char = alphabet[new_index % len(alphabet)]\n",
    "            cipher_text += char\n",
    "        print(f\"The {direction}d text is {cipher_text}\")\n",
    "        run = input(\"do you want to run again? yes or no\")\n",
    "        if run == 'yes':\n",
    "            text = input(\"enter new text\")\n",
    "            shift = int(input(\"enter new shift\"))\n",
    "            direction = input(\"enter new direction\")\n",
    "            "
   ]
  },
  {
   "cell_type": "code",
   "execution_count": null,
   "id": "e04e6e9e",
   "metadata": {},
   "outputs": [],
   "source": [
    "caesar('zebra', 1, 'decode')"
   ]
  }
 ],
 "metadata": {
  "kernelspec": {
   "display_name": "Python 3 (ipykernel)",
   "language": "python",
   "name": "python3"
  },
  "language_info": {
   "codemirror_mode": {
    "name": "ipython",
    "version": 3
   },
   "file_extension": ".py",
   "mimetype": "text/x-python",
   "name": "python",
   "nbconvert_exporter": "python",
   "pygments_lexer": "ipython3",
   "version": "3.9.13"
  }
 },
 "nbformat": 4,
 "nbformat_minor": 5
}
