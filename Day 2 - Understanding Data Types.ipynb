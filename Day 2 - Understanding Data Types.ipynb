{
 "cells": [
  {
   "cell_type": "code",
   "execution_count": 1,
   "id": "eedc9979",
   "metadata": {
    "scrolled": true
   },
   "outputs": [
    {
     "name": "stdout",
     "output_type": "stream",
     "text": [
      "5\n"
     ]
    }
   ],
   "source": [
    "print(len('Hello'))"
   ]
  },
  {
   "cell_type": "code",
   "execution_count": 2,
   "id": "f03c7e1e",
   "metadata": {},
   "outputs": [
    {
     "name": "stdout",
     "output_type": "stream",
     "text": [
      "Hello\n"
     ]
    }
   ],
   "source": [
    "print(\"Hello\"[0]+\"Hello\"[1]+\"Hello\"[2]+\"Hello\"[3]+\"Hello\"[4])"
   ]
  },
  {
   "cell_type": "code",
   "execution_count": 3,
   "id": "27c12e6d",
   "metadata": {},
   "outputs": [
    {
     "name": "stdout",
     "output_type": "stream",
     "text": [
      "Index 0 of Hello is H\n",
      "Index 1 of Hello is e\n",
      "Index 2 of Hello is l\n",
      "Index 3 of Hello is l\n",
      "Index 4 of Hello is o\n"
     ]
    }
   ],
   "source": [
    "word =  'Hello'\n",
    "start_index = 0\n",
    "for letter in word:\n",
    "    print('Index ' + str(start_index) + ' of ' + word + ' is '+ letter)\n",
    "    start_index += 1"
   ]
  },
  {
   "cell_type": "code",
   "execution_count": 4,
   "id": "388fcee5",
   "metadata": {},
   "outputs": [],
   "source": [
    "a = 535434331_2_3"
   ]
  },
  {
   "cell_type": "code",
   "execution_count": 5,
   "id": "370cbc42",
   "metadata": {},
   "outputs": [
    {
     "name": "stdout",
     "output_type": "stream",
     "text": [
      "53543433123\n"
     ]
    }
   ],
   "source": [
    "print(a)"
   ]
  },
  {
   "cell_type": "code",
   "execution_count": 6,
   "id": "0e36471a",
   "metadata": {
    "scrolled": true
   },
   "outputs": [
    {
     "data": {
      "text/plain": [
       "True"
      ]
     },
     "execution_count": 6,
     "metadata": {},
     "output_type": "execute_result"
    }
   ],
   "source": [
    "True"
   ]
  },
  {
   "cell_type": "code",
   "execution_count": 7,
   "id": "666251ad",
   "metadata": {},
   "outputs": [
    {
     "data": {
      "text/plain": [
       "False"
      ]
     },
     "execution_count": 7,
     "metadata": {},
     "output_type": "execute_result"
    }
   ],
   "source": [
    "False"
   ]
  },
  {
   "cell_type": "code",
   "execution_count": 8,
   "id": "b5426391",
   "metadata": {},
   "outputs": [
    {
     "name": "stdout",
     "output_type": "stream",
     "text": [
      "What is your name? Jose\n",
      "Your name has 4 characters in it.\n"
     ]
    }
   ],
   "source": [
    "num_char = len(input(\"What is your name? \"))\n",
    "str_num_char = str(num_char)\n",
    "print(\"Your name has \" + str_num_char + \" characters in it.\")"
   ]
  },
  {
   "cell_type": "code",
   "execution_count": 10,
   "id": "327f1337",
   "metadata": {},
   "outputs": [
    {
     "name": "stdout",
     "output_type": "stream",
     "text": [
      "<class 'int'>\n",
      "<class 'str'>\n"
     ]
    }
   ],
   "source": [
    "a = 123\n",
    "print(type(a))\n",
    "\n",
    "a = str(a)\n",
    "print(type(a))\n"
   ]
  },
  {
   "cell_type": "code",
   "execution_count": 13,
   "id": "31961007",
   "metadata": {},
   "outputs": [
    {
     "name": "stdout",
     "output_type": "stream",
     "text": [
      "<class 'float'>\n"
     ]
    }
   ],
   "source": [
    "number = 70 + float(\"100.6\")\n",
    "print(type(number))"
   ]
  },
  {
   "cell_type": "code",
   "execution_count": 15,
   "id": "7630a822",
   "metadata": {},
   "outputs": [
    {
     "name": "stdout",
     "output_type": "stream",
     "text": [
      "56\n",
      "11\n"
     ]
    }
   ],
   "source": [
    "#This block of code takes a two digit number as an input and adds the two digits together, printing the sum of the two individual digits.\n",
    "two_digit_number = input()\n",
    "two_digit_str = str(two_digit_number)\n",
    "num_1 = int(two_digit_str[0])\n",
    "num_2 = int(two_digit_str[1])\n",
    "print(num_1 + num_2)"
   ]
  },
  {
   "cell_type": "code",
   "execution_count": 22,
   "id": "621d4a43",
   "metadata": {},
   "outputs": [
    {
     "name": "stdout",
     "output_type": "stream",
     "text": [
      "Enter height in meters 2\n",
      "Enter weight in kilograms 80\n",
      "20\n"
     ]
    }
   ],
   "source": [
    "#This block of code takes the height and weight of a person and returns the body mass index.\n",
    "\n",
    "# 1st input: enter height in meters e.g: 1.65\n",
    "height = input(\"Enter height in meters \")\n",
    "# 2nd input: enter weight in kilograms e.g: 72\n",
    "weight = input(\"Enter weight in kilograms \")\n",
    "\n",
    "BMI = float(weight)/(float(height)**2)\n",
    "print(int(BMI))"
   ]
  },
  {
   "cell_type": "markdown",
   "id": "cf5ed3a9",
   "metadata": {},
   "source": [
    "## f-strings\n",
    "#### The idea behind f-strings is to make string interpolation simpler. \n",
    "To create an f-string, prefix the string with the letter “ f ”. The string itself can be formatted in much the same way that you would with str.format(). F-strings provide a concise and convenient way to embed python expressions inside string literals for formatting. "
   ]
  },
  {
   "cell_type": "code",
   "execution_count": 25,
   "id": "58a9cfad",
   "metadata": {},
   "outputs": [
    {
     "data": {
      "text/plain": [
       "'your score is 0, your height is 1.8 and you are winning is True'"
      ]
     },
     "execution_count": 25,
     "metadata": {},
     "output_type": "execute_result"
    }
   ],
   "source": [
    "score = 0\n",
    "height = 1.8\n",
    "isWinning = True\n",
    "\n",
    "#f-string\n",
    "f\"your score is {score}, your height is {height} and you are winning is {isWinning}\""
   ]
  },
  {
   "cell_type": "code",
   "execution_count": 33,
   "id": "df499a52",
   "metadata": {},
   "outputs": [
    {
     "name": "stdout",
     "output_type": "stream",
     "text": [
      "Enter your current age 50\n",
      "Enter your Life Expectancy 55\n"
     ]
    },
    {
     "data": {
      "text/plain": [
       "'You have 260 weeks left.'"
      ]
     },
     "execution_count": 33,
     "metadata": {},
     "output_type": "execute_result"
    }
   ],
   "source": [
    "#This block of code takes your age and life expectancy and returns the number of weeks remaining.\n",
    "\n",
    "\n",
    "age = input('Enter your current age ')\n",
    "# 🚨 Don't change the code above 👆\n",
    "# Write your code below this line 👇\n",
    "life_expectancy = input('Enter your Life Expectancy ') \n",
    "years_left = int(life_expectancy) - int(age)\n",
    "weeks_left = years_left*52\n",
    "f'You have {weeks_left} weeks left.'"
   ]
  },
  {
   "cell_type": "code",
   "execution_count": 48,
   "id": "17cef6e6",
   "metadata": {},
   "outputs": [
    {
     "name": "stdout",
     "output_type": "stream",
     "text": [
      "Welcome to the tip calculator!\n",
      "\n",
      "What was the total bill? $100\n",
      "What percent would you like to tip? 12\n",
      "How many people are splitting the bill? 3\n",
      "Each person should pay: $37.33\n"
     ]
    }
   ],
   "source": [
    "#This block of code takes a dinner bill, tip percentage, and number of people splitting and outputs the amount that each person should pay!!\n",
    "\n",
    "print('Welcome to the tip calculator!\\n')\n",
    "\n",
    "total_bill = input('What was the total bill? $')\n",
    "tip = input('What percent would you like to tip? ')\n",
    "split = input('How many people are splitting the bill? ')\n",
    "\n",
    "each_pay = round(float(total_bill)*(1+float(tip)/100)/int(split),2)\n",
    "print(f\"Each person should pay: ${each_pay:.2f}\")\n",
    "\n"
   ]
  },
  {
   "cell_type": "code",
   "execution_count": null,
   "id": "ed78afec",
   "metadata": {},
   "outputs": [],
   "source": []
  },
  {
   "cell_type": "code",
   "execution_count": null,
   "id": "8cc2f098",
   "metadata": {},
   "outputs": [],
   "source": []
  },
  {
   "cell_type": "code",
   "execution_count": null,
   "id": "0712e67c",
   "metadata": {},
   "outputs": [],
   "source": []
  },
  {
   "cell_type": "code",
   "execution_count": null,
   "id": "cb2831bf",
   "metadata": {},
   "outputs": [],
   "source": []
  },
  {
   "cell_type": "code",
   "execution_count": null,
   "id": "b4320865",
   "metadata": {},
   "outputs": [],
   "source": []
  },
  {
   "cell_type": "code",
   "execution_count": null,
   "id": "2c216db2",
   "metadata": {},
   "outputs": [],
   "source": []
  },
  {
   "cell_type": "code",
   "execution_count": null,
   "id": "21d92a75",
   "metadata": {},
   "outputs": [],
   "source": []
  },
  {
   "cell_type": "code",
   "execution_count": null,
   "id": "5ff43484",
   "metadata": {},
   "outputs": [],
   "source": []
  },
  {
   "cell_type": "code",
   "execution_count": null,
   "id": "7e26278d",
   "metadata": {},
   "outputs": [],
   "source": []
  },
  {
   "cell_type": "code",
   "execution_count": null,
   "id": "eba69cc9",
   "metadata": {},
   "outputs": [],
   "source": []
  },
  {
   "cell_type": "code",
   "execution_count": null,
   "id": "a12014a3",
   "metadata": {},
   "outputs": [],
   "source": []
  },
  {
   "cell_type": "code",
   "execution_count": null,
   "id": "2df25190",
   "metadata": {},
   "outputs": [],
   "source": []
  },
  {
   "cell_type": "code",
   "execution_count": null,
   "id": "f1148c09",
   "metadata": {},
   "outputs": [],
   "source": []
  },
  {
   "cell_type": "code",
   "execution_count": null,
   "id": "acc30e15",
   "metadata": {},
   "outputs": [],
   "source": []
  },
  {
   "cell_type": "code",
   "execution_count": null,
   "id": "cc90e75e",
   "metadata": {},
   "outputs": [],
   "source": []
  },
  {
   "cell_type": "code",
   "execution_count": null,
   "id": "6af47275",
   "metadata": {},
   "outputs": [],
   "source": []
  }
 ],
 "metadata": {
  "kernelspec": {
   "display_name": "Python 3 (ipykernel)",
   "language": "python",
   "name": "python3"
  },
  "language_info": {
   "codemirror_mode": {
    "name": "ipython",
    "version": 3
   },
   "file_extension": ".py",
   "mimetype": "text/x-python",
   "name": "python",
   "nbconvert_exporter": "python",
   "pygments_lexer": "ipython3",
   "version": "3.9.13"
  }
 },
 "nbformat": 4,
 "nbformat_minor": 5
}
