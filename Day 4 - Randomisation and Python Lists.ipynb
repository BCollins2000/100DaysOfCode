{
 "cells": [
  {
   "cell_type": "code",
   "execution_count": null,
   "id": "9827d1cb",
   "metadata": {},
   "outputs": [],
   "source": [
    "import random\n"
   ]
  },
  {
   "cell_type": "code",
   "execution_count": null,
   "id": "9849378e",
   "metadata": {},
   "outputs": [],
   "source": [
    "r = random.randint(1,1000)\n",
    "print(r)"
   ]
  },
  {
   "cell_type": "code",
   "execution_count": null,
   "id": "254c6949",
   "metadata": {},
   "outputs": [],
   "source": [
    "r = random.randint(1,2)\n",
    "if r == 1:\n",
    "    print(\"Heads\")\n",
    "else:\n",
    "    print(\"Tails\")\n",
    "    "
   ]
  },
  {
   "cell_type": "code",
   "execution_count": null,
   "id": "a1ae895e",
   "metadata": {},
   "outputs": [],
   "source": [
    "names = ['Ben', 'Charlotte', 'James', 'Samantha', 'Kimberly', 'Doug']\n",
    "len_names = len(names)\n",
    "rand_list_item = random.randint(0,len_names-1)\n",
    "\n",
    "print(str(names[rand_list_item] + \" is going to buy the meal today!\"))"
   ]
  },
  {
   "cell_type": "code",
   "execution_count": null,
   "id": "688c1930",
   "metadata": {},
   "outputs": [],
   "source": []
  },
  {
   "cell_type": "code",
   "execution_count": null,
   "id": "c020dc7e",
   "metadata": {},
   "outputs": [],
   "source": [
    "line1 = [\"⬜️\",\"️⬜️\",\"️⬜️\"]\n",
    "line2 = [\"⬜️\",\"⬜️\",\"️⬜️\"]\n",
    "line3 = [\"⬜️️\",\"⬜️️\",\"⬜️️\"]\n",
    "maps = [line1, line2, line3]\n",
    "print(\"Hiding your treasure! X marks the spot.\")\n",
    "\n",
    "\n",
    "position = input() # Where do you want to put the treasure?\n",
    "# 🚨 Don't change the code above 👆\n",
    "# Write your code below this row 👇\n",
    "spot_list = ['a1', 'a2', 'a3', 'b1', 'b2', 'b3', 'c1', 'c2', 'c3']\n",
    "row_list = ['a', 'b', 'c']\n",
    "while True:\n",
    "    if position.lower() in spot_list:\n",
    "        row = position[0].lower()\n",
    "        row_index = row_list.index(row)\n",
    "        maps[row_index][int(position[1])-1] = 'X'\n",
    "        #print(maps)\n",
    "        break\n",
    "        \n",
    "    \n",
    "    else:\n",
    "        position = input(\"Try Again. Choose from A1 - C3\") \n",
    "        continue\n",
    "    \n",
    "    \n",
    "    \n",
    "\n",
    "# Write your code above this row 👆\n",
    "# 🚨 Don't change the code below 👇\n",
    "print(f\"{line1}\\n{line2}\\n{line3}\")"
   ]
  },
  {
   "cell_type": "code",
   "execution_count": null,
   "id": "5c17b43c",
   "metadata": {},
   "outputs": [],
   "source": [
    "you_choose = input(\"Choose rock, paper or scissors \").lower() \n",
    "rand_num = random.randint(0,2)\n",
    "choose_list = ['rock', 'paper', 'scissors']\n",
    "rand_choose = choose_list[rand_num]\n",
    "\n",
    "\n",
    "while True:\n",
    "    if you_choose in choose_list:\n",
    "        if you_choose == rand_choose:\n",
    "            print(f'You choose {you_choose} and computer choose {rand_choose}. Its a draw')\n",
    "        elif you_choose == 'rock' and rand_choose == 'scissors':\n",
    "            print(f'You choose {you_choose} and computer choose {rand_choose}. You win')\n",
    "        elif you_choose == 'rock' and rand_choose == 'paper':\n",
    "            print(f'You choose {you_choose} and computer choose {rand_choose}. You lose')\n",
    "        elif you_choose == 'paper' and rand_choose == 'scissors':\n",
    "            print(f'You choose {you_choose} and computer choose {rand_choose}. You lose')    \n",
    "        elif you_choose == 'paper' and rand_choose == 'rock':\n",
    "            print(f'You choose {you_choose} and computer choose {rand_choose}. You win')    \n",
    "        elif you_choose == 'scissors' and rand_choose == 'rock':\n",
    "            print(f'You choose {you_choose} and computer choose {rand_choose}. You lose')\n",
    "        elif you_choose == 'scissors' and rand_choose == 'paper':\n",
    "            print(f'You choose {you_choose} and computer choose {rand_choose}. You win')             \n",
    "        break\n",
    "    else:\n",
    "        you_choose = input(\"Try Again. Choose from rock, paper or scissors \").lower() \n",
    "        continue"
   ]
  },
  {
   "cell_type": "code",
   "execution_count": null,
   "id": "66e4d4a9",
   "metadata": {},
   "outputs": [],
   "source": []
  },
  {
   "cell_type": "code",
   "execution_count": null,
   "id": "c021856d",
   "metadata": {},
   "outputs": [],
   "source": []
  },
  {
   "cell_type": "code",
   "execution_count": null,
   "id": "48426961",
   "metadata": {},
   "outputs": [],
   "source": []
  },
  {
   "cell_type": "code",
   "execution_count": null,
   "id": "9e65ccf5",
   "metadata": {},
   "outputs": [],
   "source": []
  },
  {
   "cell_type": "code",
   "execution_count": null,
   "id": "80e4ae5e",
   "metadata": {},
   "outputs": [],
   "source": []
  },
  {
   "cell_type": "code",
   "execution_count": null,
   "id": "86bf04aa",
   "metadata": {},
   "outputs": [],
   "source": []
  },
  {
   "cell_type": "code",
   "execution_count": null,
   "id": "7ea49bf2",
   "metadata": {},
   "outputs": [],
   "source": []
  },
  {
   "cell_type": "code",
   "execution_count": null,
   "id": "3f66496a",
   "metadata": {},
   "outputs": [],
   "source": []
  }
 ],
 "metadata": {
  "kernelspec": {
   "display_name": "Python 3 (ipykernel)",
   "language": "python",
   "name": "python3"
  },
  "language_info": {
   "codemirror_mode": {
    "name": "ipython",
    "version": 3
   },
   "file_extension": ".py",
   "mimetype": "text/x-python",
   "name": "python",
   "nbconvert_exporter": "python",
   "pygments_lexer": "ipython3",
   "version": "3.9.13"
  }
 },
 "nbformat": 4,
 "nbformat_minor": 5
}
